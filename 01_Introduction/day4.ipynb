{
 "cells": [
  {
   "cell_type": "code",
   "execution_count": 5,
   "metadata": {},
   "outputs": [
    {
     "name": "stdout",
     "output_type": "stream",
     "text": [
      "Hello, World!\n"
     ]
    },
    {
     "data": {
      "text/plain": [
       "'\\nThis is a multi-line comment\\nor a docstring typically used to describe\\nthe purpose of a function, class, or module.\\n'"
      ]
     },
     "execution_count": 5,
     "metadata": {},
     "output_type": "execute_result"
    }
   ],
   "source": [
    "# Single-line comment\n",
    "print(\"Hello, World!\")  # This is an inline comment\n",
    "\n",
    "\"\"\"\n",
    "This is a multi-line comment\n",
    "or a docstring typically used to describe\n",
    "the purpose of a function, class, or module.\n",
    "\"\"\"\n"
   ]
  },
  {
   "cell_type": "code",
   "execution_count": 6,
   "metadata": {},
   "outputs": [
    {
     "name": "stdout",
     "output_type": "stream",
     "text": [
      "This is a keyword example.\n",
      "30\n"
     ]
    }
   ],
   "source": [
    "# Keywords (Reserved)\n",
    "if True:\n",
    "    print(\"This is a keyword example.\")\n",
    "\n",
    "# Identifiers (User-defined)\n",
    "snake_case_variable = 10\n",
    "camelCaseVariable = 20\n",
    "print(snake_case_variable + camelCaseVariable)  # Outputs: 30\n"
   ]
  },
  {
   "cell_type": "code",
   "execution_count": 3,
   "metadata": {},
   "outputs": [
    {
     "name": "stdout",
     "output_type": "stream",
     "text": [
      "Addition: 19\n",
      "Subtraction: 11\n",
      "Division: 3.75\n",
      "Floor Division: 3\n",
      "Modulus: 3\n",
      "Multiplication: 60\n"
     ]
    }
   ],
   "source": [
    "a = 15\n",
    "b = 4\n",
    "\n",
    "# Addition\n",
    "print(\"Addition:\", a + b)  # 19\n",
    "\n",
    "# Subtraction\n",
    "print(\"Subtraction:\", a - b)  # 11\n",
    "\n",
    "# Division\n",
    "print(\"Division:\", a / b)  # 3.75\n",
    "\n",
    "# Floor Division\n",
    "print(\"Floor Division:\", a // b)  # 3\n",
    "\n",
    "# Modulus\n",
    "print(\"Modulus:\", a % b)  # 3\n",
    "\n",
    "# Multiplication\n",
    "print(\"Multiplication:\", a * b)  # 60\n"
   ]
  },
  {
   "cell_type": "code",
   "execution_count": 7,
   "metadata": {},
   "outputs": [
    {
     "name": "stdout",
     "output_type": "stream",
     "text": [
      "Result (quotient, remainder): (3, 3)\n",
      "Sum of digits: 6\n",
      "Days completed: 16\n"
     ]
    }
   ],
   "source": [
    "result = divmod(15, 4)\n",
    "print(\"Result (quotient, remainder):\", result)  # Outputs: (3, 3)\n",
    "\n",
    "# Assignment: Sum of digits in an integer using divmod\n",
    "num = 123\n",
    "sum_of_digits = 0\n",
    "\n",
    "while num > 0:\n",
    "    num, digit = divmod(num, 10)\n",
    "    sum_of_digits += digit\n",
    "\n",
    "print(\"Sum of digits:\", sum_of_digits)  # Outputs: 6\n",
    "\n",
    "# Assignment: Clock revolutions\n",
    "revolutions = 32\n",
    "days_completed = revolutions // 2\n",
    "print(\"Days completed:\", days_completed)  # Outputs: 16\n"
   ]
  },
  {
   "cell_type": "code",
   "execution_count": 8,
   "metadata": {},
   "outputs": [
    {
     "name": "stdout",
     "output_type": "stream",
     "text": [
      "After +=: 15\n",
      "After -=: 12\n",
      "After *=: 24\n",
      "After /=: 6.0\n",
      "After %=: 0.0\n"
     ]
    }
   ],
   "source": [
    "# Using compound operations\n",
    "x = 10\n",
    "\n",
    "x += 5  # x = x + 5\n",
    "print(\"After +=:\", x)  # 15\n",
    "\n",
    "x -= 3  # x = x - 3\n",
    "print(\"After -=:\", x)  # 12\n",
    "\n",
    "x *= 2  # x = x * 2\n",
    "print(\"After *=:\", x)  # 24\n",
    "\n",
    "x /= 4  # x = x / 4\n",
    "print(\"After /=:\", x)  # 6.0\n",
    "\n",
    "x %= 3  # x = x % 3\n",
    "print(\"After %=:\", x)  # 0.0\n"
   ]
  },
  {
   "cell_type": "code",
   "execution_count": null,
   "metadata": {},
   "outputs": [],
   "source": []
  },
  {
   "cell_type": "code",
   "execution_count": null,
   "metadata": {},
   "outputs": [],
   "source": []
  },
  {
   "cell_type": "code",
   "execution_count": null,
   "metadata": {},
   "outputs": [],
   "source": []
  }
 ],
 "metadata": {
  "kernelspec": {
   "display_name": "Python 3",
   "language": "python",
   "name": "python3"
  },
  "language_info": {
   "codemirror_mode": {
    "name": "ipython",
    "version": 3
   },
   "file_extension": ".py",
   "mimetype": "text/x-python",
   "name": "python",
   "nbconvert_exporter": "python",
   "pygments_lexer": "ipython3",
   "version": "3.12.1"
  }
 },
 "nbformat": 4,
 "nbformat_minor": 2
}
